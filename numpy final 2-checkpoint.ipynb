{
 "cells": [
  {
   "cell_type": "code",
   "execution_count": 1,
   "id": "8b2135cd",
   "metadata": {},
   "outputs": [],
   "source": [
    "import numpy as np"
   ]
  },
  {
   "cell_type": "code",
   "execution_count": 2,
   "id": "3f68bc24",
   "metadata": {},
   "outputs": [],
   "source": [
    "data1 = np.genfromtxt(r\"C:\\Users\\ADMIN\\Downloads\\train_extended.csv\",delimiter=',',skip_header=1)"
   ]
  },
  {
   "cell_type": "code",
   "execution_count": 3,
   "id": "fa90e3d6",
   "metadata": {},
   "outputs": [
    {
     "data": {
      "text/plain": [
       "array([[ 1.575     ,  1.225     ,  0.375     , ...,  6.3219385 ,\n",
       "         9.63883   , 10.        ],\n",
       "       [ 1.2375    ,  1.        ,  0.375     , ...,  3.798833  ,\n",
       "         7.654365  , 19.        ],\n",
       "       [ 1.45      ,  1.1625    ,  0.4125    , ...,  7.01650125,\n",
       "         7.257472  , 11.        ],\n",
       "       ...,\n",
       "       [ 1.125     ,  0.9125    ,  0.2875    , ...,  1.984465  ,\n",
       "         3.118445  ,  7.        ],\n",
       "       [ 1.625     ,  1.275     ,  0.4125    , ...,  7.86698625,\n",
       "        10.489315  , 11.        ],\n",
       "       [ 1.5875    ,  1.25      ,  0.3875    , ...,  7.38504475,\n",
       "         8.788345  , 11.        ]])"
      ]
     },
     "execution_count": 3,
     "metadata": {},
     "output_type": "execute_result"
    }
   ],
   "source": [
    "data1"
   ]
  },
  {
   "cell_type": "code",
   "execution_count": 5,
   "id": "6d563705",
   "metadata": {},
   "outputs": [
    {
     "name": "stdout",
     "output_type": "stream",
     "text": [
      "max of length : 7.58349125\n",
      "min of length : 0.0\n"
     ]
    }
   ],
   "source": [
    "# the max and min length\n",
    "max = np.max(data1[:,0])\n",
    "min = np.min(data1[:,0])\n",
    "print(\"max of length :\",max)\n",
    "print(\"min of length :\",min)"
   ]
  },
  {
   "cell_type": "code",
   "execution_count": 7,
   "id": "a78b171e",
   "metadata": {},
   "outputs": [
    {
     "name": "stdout",
     "output_type": "stream",
     "text": [
      "the difference blw max and min : 7.58349125\n"
     ]
    }
   ],
   "source": [
    "# difference b\\w max and min length\n",
    "diff = max-min\n",
    "print(\"the difference blw max and min :\",diff)"
   ]
  },
  {
   "cell_type": "code",
   "execution_count": 10,
   "id": "fbeb7464",
   "metadata": {},
   "outputs": [
    {
     "data": {
      "text/plain": [
       "array([ 1.31244808,  1.02032036,  0.34602787, 23.12343631,  9.98937025,\n",
       "        4.99318096,  6.63422915,  9.950615  ])"
      ]
     },
     "execution_count": 10,
     "metadata": {},
     "output_type": "execute_result"
    }
   ],
   "source": [
    "# colomnwise average\n",
    "def col_avg(d):\n",
    "    return np.sum(d)/len(data1)\n",
    "np.apply_along_axis(col_avg,0,data1)\n",
    "\n"
   ]
  },
  {
   "cell_type": "code",
   "execution_count": 11,
   "id": "68807ee2",
   "metadata": {},
   "outputs": [
    {
     "name": "stdout",
     "output_type": "stream",
     "text": [
      "age whose height is >0.4 : [11. 14. 13. ... 11. 11. 11.]\n"
     ]
    }
   ],
   "source": [
    "#  all the age whose height is >0.4\n",
    "age = data1[:,-1][data1[:,2]>0.4]\n",
    "print(\"age whose height is >0.4 :\",age)"
   ]
  },
  {
   "cell_type": "code",
   "execution_count": 13,
   "id": "b36686b7",
   "metadata": {},
   "outputs": [
    {
     "name": "stdout",
     "output_type": "stream",
     "text": [
      "the avg_height of person whose age is 10 : 0.3833672856540043\n",
      "the avg_weight of person whose age is 10 : 0.3875000000001401\n"
     ]
    }
   ],
   "source": [
    "# the avg height and weightof the persons whose age is 10\n",
    "height = data1[:,2][data1[:,-1]==10]\n",
    "weight = data1[:,3][data1[:,-1]==10]\n",
    "h = 0\n",
    "w = 0\n",
    "for i in height:\n",
    "    h+=i\n",
    "for j in weight:\n",
    "    w+=i\n",
    "avg_h = h/len(height)\n",
    "avg_w = w/len(weight)\n",
    "print(\"the avg_height of person whose age is 10 :\",avg_h)\n",
    "print(\"the avg_weight of person whose age is 10 :\",avg_w)\n",
    "\n",
    "    "
   ]
  },
  {
   "cell_type": "code",
   "execution_count": 14,
   "id": "ec162411",
   "metadata": {},
   "outputs": [
    {
     "name": "stdout",
     "output_type": "stream",
     "text": [
      "total shell weight : 1326845.8295214002\n"
     ]
    }
   ],
   "source": [
    "# total shell weight\n",
    "shell_w = np.sum(data1[:,6])\n",
    "print(\"total shell weight :\",shell_w)"
   ]
  },
  {
   "cell_type": "code",
   "execution_count": 16,
   "id": "075b804d",
   "metadata": {},
   "outputs": [
    {
     "name": "stdout",
     "output_type": "stream",
     "text": [
      "persons belongs to unique age: (array([ 1.,  2.,  3.,  4.,  5.,  6.,  7.,  8.,  9., 10., 11., 12., 13.,\n",
      "       14., 15., 16., 17., 18., 19., 20., 21., 22., 23., 24., 25., 26.,\n",
      "       27., 29.]), array([   46,    42,   625,  2787,  5475, 12450, 18276, 26818, 32906,\n",
      "       30803, 23457, 12717, 10037,  6352,  4831,  3191,  2705,  1953,\n",
      "        1591,  1206,   721,   296,   352,   110,    51,    46,    99,\n",
      "          57], dtype=int64))\n"
     ]
    }
   ],
   "source": [
    "#  no.of persons belongs to each & every unique age\n",
    "uni_age = np.unique(data1[:,7],return_counts=True)\n",
    "print(\"persons belongs to unique age:\",uni_age)"
   ]
  },
  {
   "cell_type": "code",
   "execution_count": 17,
   "id": "2daccd11",
   "metadata": {},
   "outputs": [
    {
     "name": "stdout",
     "output_type": "stream",
     "text": [
      "the diff b\\w shucked & viscua weight: 999237.8582600503\n"
     ]
    }
   ],
   "source": [
    "# diff b\\w shucked weight & viscua weight\n",
    "shucked_w = np.sum(data1[:,4])\n",
    "viscua_w = np.sum(data1[:,5])\n",
    "diff = shucked_w - viscua_w\n",
    "print(\"the diff b\\w shucked & viscua weight:\",diff)"
   ]
  },
  {
   "cell_type": "code",
   "execution_count": 20,
   "id": "eb5bf382",
   "metadata": {},
   "outputs": [
    {
     "name": "stdout",
     "output_type": "stream",
     "text": [
      "avg height of persons whose age b/w  is  14 & 19 : 145821.0\n"
     ]
    }
   ],
   "source": [
    "# the avg height of persons whose age b/w is   14 & 19\n",
    "avg_h =  data1.take(np.where((data1[:,7]>=14) & (data1[:,7]<=19)))\n",
    "s = np.sum(avg_h)\n",
    "h = np.round(s/len(avg_h))\n",
    "print(\"avg height of persons whose age b/w  is  14 & 19 :\",h)\n"
   ]
  },
  {
   "cell_type": "code",
   "execution_count": null,
   "id": "081ee9ff",
   "metadata": {},
   "outputs": [],
   "source": []
  }
 ],
 "metadata": {
  "kernelspec": {
   "display_name": "Python 3 (ipykernel)",
   "language": "python",
   "name": "python3"
  },
  "language_info": {
   "codemirror_mode": {
    "name": "ipython",
    "version": 3
   },
   "file_extension": ".py",
   "mimetype": "text/x-python",
   "name": "python",
   "nbconvert_exporter": "python",
   "pygments_lexer": "ipython3",
   "version": "3.11.4"
  }
 },
 "nbformat": 4,
 "nbformat_minor": 5
}

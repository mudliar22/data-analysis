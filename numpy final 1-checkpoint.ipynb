{
 "cells": [
  {
   "cell_type": "code",
   "execution_count": 3,
   "id": "8db8d203",
   "metadata": {},
   "outputs": [],
   "source": [
    "import numpy as np"
   ]
  },
  {
   "cell_type": "code",
   "execution_count": 4,
   "id": "8b7ba291",
   "metadata": {},
   "outputs": [],
   "source": [
    "data = np.genfromtxt(r\"C:\\Users\\ADMIN\\Downloads\\tipsf.csv\", delimiter = \",\",skip_header=1)"
   ]
  },
  {
   "cell_type": "code",
   "execution_count": 5,
   "id": "5f2d0a56",
   "metadata": {},
   "outputs": [
    {
     "data": {
      "text/plain": [
       "array([[  0.  ,  16.99,   1.01, ...,   1.  ,   0.  ,   2.  ],\n",
       "       [  1.  ,  10.34,   1.66, ...,   1.  ,   0.  ,   3.  ],\n",
       "       [  2.  ,  21.01,   3.5 , ...,   1.  ,   0.  ,   3.  ],\n",
       "       ...,\n",
       "       [241.  ,  22.67,   2.  , ...,   0.  ,   0.  ,   2.  ],\n",
       "       [242.  ,  17.82,   1.75, ...,   0.  ,   0.  ,   2.  ],\n",
       "       [243.  ,  18.78,   3.  , ...,   2.  ,   0.  ,   2.  ]])"
      ]
     },
     "execution_count": 5,
     "metadata": {},
     "output_type": "execute_result"
    }
   ],
   "source": [
    "data"
   ]
  },
  {
   "cell_type": "code",
   "execution_count": 7,
   "id": "7b561d40",
   "metadata": {},
   "outputs": [
    {
     "data": {
      "text/plain": [
       "4827.77"
      ]
     },
     "execution_count": 7,
     "metadata": {},
     "output_type": "execute_result"
    }
   ],
   "source": [
    "# total bill\n",
    "t_bill=np.sum(data[:,1])\n",
    "t_bill"
   ]
  },
  {
   "cell_type": "code",
   "execution_count": 8,
   "id": "9227543e",
   "metadata": {},
   "outputs": [
    {
     "data": {
      "text/plain": [
       "731.5799999999999"
      ]
     },
     "execution_count": 8,
     "metadata": {},
     "output_type": "execute_result"
    }
   ],
   "source": [
    "#  total tip\n",
    "t_tip = np.sum(data[:,2])\n",
    "t_tip"
   ]
  },
  {
   "cell_type": "code",
   "execution_count": 11,
   "id": "dba4c2ba",
   "metadata": {},
   "outputs": [
    {
     "name": "stdout",
     "output_type": "stream",
     "text": [
      "thursday count is: 62\n",
      "friday count is: 19\n",
      "saturday count is : 87\n",
      "sunday count is: 76\n"
     ]
    }
   ],
   "source": [
    "# count of sun,sat,thu and fri\n",
    "a = np.unique(data[:,5],return_counts= True)\n",
    "count = a[1]\n",
    "print('thursday count is:',count[2])\n",
    "print('friday count is:',count[3])\n",
    "print('saturday count is :', count[0])\n",
    "print('sunday count is:',count[1])"
   ]
  },
  {
   "cell_type": "code",
   "execution_count": 12,
   "id": "ef543c63",
   "metadata": {},
   "outputs": [
    {
     "name": "stdout",
     "output_type": "stream",
     "text": [
      "total no.of smokers are: 93\n"
     ]
    }
   ],
   "source": [
    "# count of smokers\n",
    "t_s = data[:,4][data[:,4]==1]\n",
    "print(\"total no.of smokers are:\",len(t_s))"
   ]
  },
  {
   "cell_type": "code",
   "execution_count": 18,
   "id": "28720037",
   "metadata": {},
   "outputs": [
    {
     "name": "stdout",
     "output_type": "stream",
     "text": [
      "the average amount tipped by women: 3.0896178343949052\n",
      " the average amount tipped by male: 2.833448275862069\n"
     ]
    }
   ],
   "source": [
    "# the average tip given by female and male\n",
    "female = data[:,2] [data[:,3]==1]\n",
    "male = data[:,2] [data[:,3]==0]\n",
    "tip_fem = 0\n",
    "tip_m = 0\n",
    "for i in female:\n",
    "    tip_fem+=i\n",
    "for j in male:\n",
    "    tip_m+=j\n",
    "print('the average amount tipped by women:',tip_fem/len(female))\n",
    "print(' the average amount tipped by male:',tip_m/len(male))"
   ]
  },
  {
   "cell_type": "code",
   "execution_count": 19,
   "id": "43419444",
   "metadata": {},
   "outputs": [
    {
     "name": "stdout",
     "output_type": "stream",
     "text": [
      "the amount have been spended by women : 3256.8200000000024\n",
      "the amount have been spended by men: 1570.9499999999998\n"
     ]
    }
   ],
   "source": [
    "# the amount have been spended by women and men\n",
    "f = data[:,1][data[:,3]==1]\n",
    "m  = data[:,1][data[:,3]==0]\n",
    "m_f= 0\n",
    "m_m=0\n",
    "for i in f:\n",
    "    m_f+=i\n",
    "for j in m:\n",
    "    m_m+=j\n",
    "print('the amount have been spended by women :',m_f)\n",
    "print('the amount have been spended by men:',m_m)"
   ]
  },
  {
   "cell_type": "code",
   "execution_count": 22,
   "id": "714141ad",
   "metadata": {},
   "outputs": [
    {
     "name": "stdout",
     "output_type": "stream",
     "text": [
      "max tip: 10.0\n",
      "min tip: 1.0\n"
     ]
    }
   ],
   "source": [
    "# max and min tip given\n",
    "max_t = np.max(data[:,2])\n",
    "min_t = np.min(data[:,2])\n",
    "print(\"max tip:\",max_t)\n",
    "print(\"min tip:\",min_t)"
   ]
  },
  {
   "cell_type": "code",
   "execution_count": 26,
   "id": "e685e38c",
   "metadata": {},
   "outputs": [
    {
     "name": "stdout",
     "output_type": "stream",
     "text": [
      "men and women for lunch: 68\n",
      "men and women for dinner: 176\n"
     ]
    }
   ],
   "source": [
    "# count of male and female going for lunch and dinner\n",
    "lunch = data [:,3][data[:,6]==1]\n",
    "dinner = data[:,3][data[:,6]==0]\n",
    "print(\"men and women for lunch:\",len(lunch))\n",
    "print(\"men and women for dinner:\",len(dinner))"
   ]
  },
  {
   "cell_type": "code",
   "execution_count": 6,
   "id": "5430a334",
   "metadata": {},
   "outputs": [
    {
     "name": "stdout",
     "output_type": "stream",
     "text": [
      "the average of size : 2.580246913580247\n"
     ]
    }
   ],
   "source": [
    "# the avg of size\n",
    "s = 0\n",
    "for i in data[:,-1]:\n",
    "    s+=i\n",
    "a_s= s/len(data[:-1])\n",
    "print(\"the average of size :\",a_s)\n"
   ]
  },
  {
   "cell_type": "code",
   "execution_count": 10,
   "id": "444bb444",
   "metadata": {},
   "outputs": [
    {
     "name": "stdout",
     "output_type": "stream",
     "text": [
      " total female smokers : 33\n",
      " totl male female smokers : 60\n"
     ]
    }
   ],
   "source": [
    "# how many female and male smokers are there\n",
    "f = data[:,4][(data[:,4]==1) & (data[:,3]==0)]\n",
    "m = data[:,4][(data[:,4]==1) & (data[:,3]==1)]\n",
    "print(\" total female smokers :\",len(f))\n",
    "print(\" totl male female smokers :\",len(m))"
   ]
  },
  {
   "cell_type": "code",
   "execution_count": null,
   "id": "7c54bd31",
   "metadata": {},
   "outputs": [],
   "source": []
  }
 ],
 "metadata": {
  "kernelspec": {
   "display_name": "Python 3 (ipykernel)",
   "language": "python",
   "name": "python3"
  },
  "language_info": {
   "codemirror_mode": {
    "name": "ipython",
    "version": 3
   },
   "file_extension": ".py",
   "mimetype": "text/x-python",
   "name": "python",
   "nbconvert_exporter": "python",
   "pygments_lexer": "ipython3",
   "version": "3.11.4"
  }
 },
 "nbformat": 4,
 "nbformat_minor": 5
}

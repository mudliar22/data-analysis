{
 "cells": [
  {
   "cell_type": "code",
   "execution_count": null,
   "id": "e37f44c4",
   "metadata": {},
   "outputs": [],
   "source": [
    "1 # create a 5 dimensional array with all zeros and ones"
   ]
  },
  {
   "cell_type": "code",
   "execution_count": 3,
   "id": "fa908b37",
   "metadata": {},
   "outputs": [],
   "source": [
    "import numpy as np"
   ]
  },
  {
   "cell_type": "code",
   "execution_count": 4,
   "id": "5c863188",
   "metadata": {},
   "outputs": [
    {
     "name": "stdout",
     "output_type": "stream",
     "text": [
      "[[[[[0 1 0 1 0]\n",
      "    [1 1 1 0 1]\n",
      "    [1 0 0 0 0]\n",
      "    [1 0 0 0 0]\n",
      "    [0 0 1 1 1]]]]]\n"
     ]
    }
   ],
   "source": [
    "a = np.random.randint(2,size=(5,5))\n",
    "b = np.zeros((1,1,1,5,5),dtype=int)\n",
    "b[0,0,:,:] = a\n",
    "print(b)"
   ]
  },
  {
   "cell_type": "code",
   "execution_count": 5,
   "id": "06ce6044",
   "metadata": {},
   "outputs": [],
   "source": [
    "#2. create an array of 10 zeros, 10 ones, and 10 fives in row 12 and 3 which create a new array of shape a93,10"
   ]
  },
  {
   "cell_type": "code",
   "execution_count": 7,
   "id": "3dc79563",
   "metadata": {},
   "outputs": [
    {
     "data": {
      "text/plain": [
       "array([[0, 0, 0, 0, 0, 0, 0, 0, 0, 0],\n",
       "       [1, 1, 1, 1, 1, 1, 1, 1, 1, 1],\n",
       "       [5, 5, 5, 5, 5, 5, 5, 5, 5, 5]])"
      ]
     },
     "execution_count": 7,
     "metadata": {},
     "output_type": "execute_result"
    }
   ],
   "source": [
    "x = np.zeros([10],dtype=int)\n",
    "y = np.ones([10],dtype=int)\n",
    "z = np.full([10],5,dtype=int)\n",
    "A = np.stack((x,y,z))\n",
    "A"
   ]
  },
  {
   "cell_type": "code",
   "execution_count": 8,
   "id": "ccf80562",
   "metadata": {},
   "outputs": [],
   "source": [
    "#3. create an array 3x4 matrix filled with values from 10 to 21"
   ]
  },
  {
   "cell_type": "code",
   "execution_count": 10,
   "id": "5eb49ce9",
   "metadata": {},
   "outputs": [
    {
     "data": {
      "text/plain": [
       "array([[10, 11, 12, 13],\n",
       "       [14, 15, 16, 17],\n",
       "       [18, 19, 20, 21]])"
      ]
     },
     "execution_count": 10,
     "metadata": {},
     "output_type": "execute_result"
    }
   ],
   "source": [
    "Q = np.arange(10,22).reshape(3,4)\n",
    "Q"
   ]
  },
  {
   "cell_type": "code",
   "execution_count": 11,
   "id": "a707dd9a",
   "metadata": {},
   "outputs": [],
   "source": [
    "# 4. create a 10X10 zero matrix with element on main diagonal equal to 0,1,2,3,4,5,6,7,8,9,"
   ]
  },
  {
   "cell_type": "code",
   "execution_count": 13,
   "id": "a290eb15",
   "metadata": {},
   "outputs": [
    {
     "data": {
      "text/plain": [
       "array([[1, 0, 0, 0, 0, 0, 0, 0, 0],\n",
       "       [0, 2, 0, 0, 0, 0, 0, 0, 0],\n",
       "       [0, 0, 3, 0, 0, 0, 0, 0, 0],\n",
       "       [0, 0, 0, 4, 0, 0, 0, 0, 0],\n",
       "       [0, 0, 0, 0, 5, 0, 0, 0, 0],\n",
       "       [0, 0, 0, 0, 0, 6, 0, 0, 0],\n",
       "       [0, 0, 0, 0, 0, 0, 7, 0, 0],\n",
       "       [0, 0, 0, 0, 0, 0, 0, 8, 0],\n",
       "       [0, 0, 0, 0, 0, 0, 0, 0, 9]])"
      ]
     },
     "execution_count": 13,
     "metadata": {},
     "output_type": "execute_result"
    }
   ],
   "source": [
    "W = np.diag([1,2,3,4,5,6,7,8,9,])\n",
    "W"
   ]
  },
  {
   "cell_type": "code",
   "execution_count": 14,
   "id": "8ee18087",
   "metadata": {},
   "outputs": [],
   "source": [
    "# 5.create an array by swapping first and last,second and third"
   ]
  },
  {
   "cell_type": "code",
   "execution_count": 17,
   "id": "db69e9a4",
   "metadata": {},
   "outputs": [
    {
     "data": {
      "text/plain": [
       "array([[13, 14, 15, 16],\n",
       "       [ 9, 10, 11, 12],\n",
       "       [ 5,  6,  7,  8],\n",
       "       [ 1,  2,  3,  4]])"
      ]
     },
     "execution_count": 17,
     "metadata": {},
     "output_type": "execute_result"
    }
   ],
   "source": [
    "R = np.array([[1,2,3,4],[5,6,7,8],[9,10,11,12],[13,14,15,16]])\n",
    "np.flip(R,0)\n"
   ]
  },
  {
   "cell_type": "code",
   "execution_count": 19,
   "id": "b50acc6d",
   "metadata": {},
   "outputs": [],
   "source": [
    "# 6. reverse an array"
   ]
  },
  {
   "cell_type": "code",
   "execution_count": 18,
   "id": "07ec0d55",
   "metadata": {},
   "outputs": [
    {
     "data": {
      "text/plain": [
       "array([27, 26, 25, 24, 23, 22, 21, 20, 19, 18, 17, 16, 15, 14, 13, 12])"
      ]
     },
     "execution_count": 18,
     "metadata": {},
     "output_type": "execute_result"
    }
   ],
   "source": [
    "a = np.array([12,13,14,15,16,17,18,19,20,21,22,23,24,25,26,27])\n",
    "np.flip(a)"
   ]
  },
  {
   "cell_type": "code",
   "execution_count": 21,
   "id": "1b3703f7",
   "metadata": {},
   "outputs": [],
   "source": [
    "# 7. program to access all elements greater than 30 and less than 80 and multiple of 5 from an array\n",
    "#shape of 10,10. elements range (1,100)\n"
   ]
  },
  {
   "cell_type": "code",
   "execution_count": 28,
   "id": "828486f2",
   "metadata": {},
   "outputs": [
    {
     "name": "stdout",
     "output_type": "stream",
     "text": [
      "[[  1   2   3   4   5   6   7   8   9  10]\n",
      " [ 11  12  13  14  15  16  17  18  19  20]\n",
      " [ 21  22  23  24  25  26  27  28  29  30]\n",
      " [ 31  32  33  34  35  36  37  38  39  40]\n",
      " [ 41  42  43  44  45  46  47  48  49  50]\n",
      " [ 51  52  53  54  55  56  57  58  59  60]\n",
      " [ 61  62  63  64  65  66  67  68  69  70]\n",
      " [ 71  72  73  74  75  76  77  78  79  80]\n",
      " [ 81  82  83  84  85  86  87  88  89  90]\n",
      " [ 91  92  93  94  95  96  97  98  99 100]]\n",
      "\n",
      " elements greater than 30 and less than 80 and multiple of 5 are:\n",
      "[35, 40, 45, 50, 55, 60, 65, 70, 75]\n"
     ]
    }
   ],
   "source": [
    " x = np.arange(1,101).reshape(10,10)\n",
    "y = []\n",
    "for i in x:\n",
    "    for j in i:\n",
    "        if j>30 and j<80 and j%5==0:\n",
    "            y.append(j)\n",
    "print(x)\n",
    "print(\"\\n elements greater than 30 and less than 80 and multiple of 5 are:\")\n",
    "print(y)\n",
    "  "
   ]
  },
  {
   "cell_type": "code",
   "execution_count": 29,
   "id": "d65ca18f",
   "metadata": {},
   "outputs": [],
   "source": [
    "# 8. create a 2D array with 1 on border and 0 inside"
   ]
  },
  {
   "cell_type": "code",
   "execution_count": 34,
   "id": "a74d53d6",
   "metadata": {},
   "outputs": [
    {
     "data": {
      "text/plain": [
       "array([[1, 1, 1, 1],\n",
       "       [1, 0, 0, 1],\n",
       "       [1, 0, 0, 1],\n",
       "       [1, 1, 1, 1]])"
      ]
     },
     "execution_count": 34,
     "metadata": {},
     "output_type": "execute_result"
    }
   ],
   "source": [
    "t = np.ones((4,4),dtype=int)\n",
    "t[1:-1,1:-1]=0\n",
    "t"
   ]
  },
  {
   "cell_type": "code",
   "execution_count": 35,
   "id": "7219344a",
   "metadata": {},
   "outputs": [],
   "source": [
    "# 9.create a checkboard pattern . don't use default array function"
   ]
  },
  {
   "cell_type": "code",
   "execution_count": 41,
   "id": "b992b009",
   "metadata": {},
   "outputs": [
    {
     "name": "stdout",
     "output_type": "stream",
     "text": [
      "enter a row:10\n",
      "enter a column:10\n",
      "[[1 0 1 0 1 0 1 0 1 0]\n",
      " [0 1 0 1 0 1 0 1 0 1]\n",
      " [1 0 1 0 1 0 1 0 1 0]\n",
      " [0 1 0 1 0 1 0 1 0 1]\n",
      " [1 0 1 0 1 0 1 0 1 0]\n",
      " [0 1 0 1 0 1 0 1 0 1]\n",
      " [1 0 1 0 1 0 1 0 1 0]\n",
      " [0 1 0 1 0 1 0 1 0 1]\n",
      " [1 0 1 0 1 0 1 0 1 0]\n",
      " [0 1 0 1 0 1 0 1 0 1]]\n"
     ]
    }
   ],
   "source": [
    "a = int(input('enter a row:'))\n",
    "b = int(input(\"enter a column:\"))\n",
    "c = np.zeros((a,b),dtype=int)\n",
    "for i in range(a):\n",
    "    for j in range(b):\n",
    "        if (i+j)%2==0:\n",
    "            c[i,j]=1\n",
    "print(c)"
   ]
  },
  {
   "cell_type": "code",
   "execution_count": 42,
   "id": "a255338b",
   "metadata": {},
   "outputs": [],
   "source": [
    "# 10. find common values between two arrays"
   ]
  },
  {
   "cell_type": "code",
   "execution_count": 43,
   "id": "a9b11d02",
   "metadata": {},
   "outputs": [
    {
     "data": {
      "text/plain": [
       "array([10, 40])"
      ]
     },
     "execution_count": 43,
     "metadata": {},
     "output_type": "execute_result"
    }
   ],
   "source": [
    "u = np.array([10,20,40,60])\n",
    "v = ([10,30,40,50])\n",
    "w = np.intersect1d(u,v)\n",
    "w"
   ]
  },
  {
   "cell_type": "code",
   "execution_count": 44,
   "id": "ec30c9b0",
   "metadata": {},
   "outputs": [],
   "source": [
    "# 11. create an 2D array and than reshape into 1D "
   ]
  },
  {
   "cell_type": "code",
   "execution_count": 50,
   "id": "8e276796",
   "metadata": {},
   "outputs": [
    {
     "name": "stdout",
     "output_type": "stream",
     "text": [
      "original array\n",
      "[[1 2 3]\n",
      " [4 5 6]\n",
      " [7 8 9]]\n",
      "reshaped array [1 2 3 4 5 6 7 8 9]\n"
     ]
    }
   ],
   "source": [
    "q = np.array([[1,2,3],[4,5,6],[7,8,9]])\n",
    "r = q.reshape(-1)\n",
    "print(\"original array\")\n",
    "print(q)\n",
    "print('reshaped array',r)"
   ]
  },
  {
   "cell_type": "markdown",
   "id": "d2f52d66",
   "metadata": {},
   "source": [
    "## 12"
   ]
  },
  {
   "cell_type": "code",
   "execution_count": 51,
   "id": "35272801",
   "metadata": {},
   "outputs": [
    {
     "name": "stdout",
     "output_type": "stream",
     "text": [
      "[0, 1, 2, 3, 4, 5, 6, 7, 8, 9, 10]\n"
     ]
    }
   ],
   "source": [
    "a = []\n",
    "for i in range(0,11):\n",
    "    a.append(i)\n",
    "print(a)"
   ]
  },
  {
   "cell_type": "code",
   "execution_count": null,
   "id": "6b895021",
   "metadata": {},
   "outputs": [],
   "source": []
  }
 ],
 "metadata": {
  "kernelspec": {
   "display_name": "Python 3 (ipykernel)",
   "language": "python",
   "name": "python3"
  },
  "language_info": {
   "codemirror_mode": {
    "name": "ipython",
    "version": 3
   },
   "file_extension": ".py",
   "mimetype": "text/x-python",
   "name": "python",
   "nbconvert_exporter": "python",
   "pygments_lexer": "ipython3",
   "version": "3.11.4"
  }
 },
 "nbformat": 4,
 "nbformat_minor": 5
}
